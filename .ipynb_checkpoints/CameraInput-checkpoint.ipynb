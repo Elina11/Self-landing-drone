{
 "cells": [
  {
   "cell_type": "code",
   "execution_count": 24,
   "metadata": {},
   "outputs": [],
   "source": [
    "import math\n",
    "import cv2\n",
    "import numpy as np\n",
    "\n",
    "\n",
    "hue_lower = 55\n",
    "hue_upper = 185\n",
    "saturation_lower = 110\n",
    "saturation_upper = 170\n",
    "value_lower = 190\n",
    "value_upper = 250\n",
    "\n",
    "horisontal_fov = 118.2*math.pi/180\n",
    "vertical_fov = 69.5 *math.pi/180\n",
    "horisontal_resolution = 1280\n",
    "vertical_resolution = 720\n",
    "\n",
    "#camera = cv2.VideoCapture(\"./sololink.sdp\")\n",
    "\n",
    "camera = cv2.VideoCapture()\n",
    "camera.open(2)\n",
    "#camera = cv2.VideoCapture(0)"
   ]
  },
  {
   "cell_type": "code",
   "execution_count": 23,
   "metadata": {},
   "outputs": [],
   "source": [
    "while(camera.isOpened()):\n",
    "    ret,capture = camera.read()\n",
    "    if ret:\n",
    "        hsvcapture = cv2.cvtColor(capture, cv2.COLOR_BGR2HSV)\n",
    "    #inrangepixels = cv2.inRange(hsvcapture, np.array((hue_lower, saturation_lower, value_lower)),np.array((hue_upper, saturation_upper,value_upper)))\n",
    "        cv2.imshow('capture', capture)\n",
    "    #cv2.imshow('inrangepixels',inrangepixels)\n",
    "    if cv2.waitKey(1) == 27:\n",
    "        break\n",
    "camera.release()\n",
    "cv2.destroyAllWindows()\n",
    "    "
   ]
  },
  {
   "cell_type": "code",
   "execution_count": null,
   "metadata": {},
   "outputs": [],
   "source": []
  },
  {
   "cell_type": "code",
   "execution_count": null,
   "metadata": {},
   "outputs": [],
   "source": []
  }
 ],
 "metadata": {
  "kernelspec": {
   "display_name": "Python 2",
   "language": "python",
   "name": "python2"
  },
  "language_info": {
   "codemirror_mode": {
    "name": "ipython",
    "version": 2
   },
   "file_extension": ".py",
   "mimetype": "text/x-python",
   "name": "python",
   "nbconvert_exporter": "python",
   "pygments_lexer": "ipython2",
   "version": "2.7.13"
  }
 },
 "nbformat": 4,
 "nbformat_minor": 2
}
